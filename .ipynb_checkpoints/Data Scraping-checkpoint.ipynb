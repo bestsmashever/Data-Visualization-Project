{
 "cells": [
  {
   "cell_type": "code",
   "execution_count": 1,
   "metadata": {},
   "outputs": [],
   "source": [
    "# import dependencies\n",
    "import pandas as pd\n",
    "import requests\n",
    "from bs4 import BeautifulSoup\n",
    "from splinter import Browser\n",
    "from splinter.exceptions import ElementDoesNotExist\n",
    "import re\n",
    "import time\n",
    "from tqdm import tqdm\n",
    "import pymongo\n",
    "from pymongo import MongoClient"
   ]
  },
  {
   "cell_type": "markdown",
   "metadata": {},
   "source": [
    "# PyMongo Set Up"
   ]
  },
  {
   "cell_type": "code",
   "execution_count": null,
   "metadata": {},
   "outputs": [],
   "source": [
    "# Initialize PyMongo to work with MongoDBs\n",
    "conn = 'mongodb://localhost:27017'\n",
    "client = pymongo.MongoClient(conn)"
   ]
  },
  {
   "cell_type": "code",
   "execution_count": null,
   "metadata": {},
   "outputs": [],
   "source": [
    "# define database\n",
    "db = client.glassdoor_db\n",
    "\n",
    "# define the collection name\n",
    "collection = db.glassdoor_listings"
   ]
  },
  {
   "cell_type": "markdown",
   "metadata": {},
   "source": [
    "# Chromedriver"
   ]
  },
  {
   "cell_type": "code",
   "execution_count": null,
   "metadata": {},
   "outputs": [],
   "source": [
    "# set the chromedriver path\n",
    "executable_path = {\"executable_path\": \"/usr/local/bin/chromedriver\"}\n",
    "browser = Browser(\"chrome\", **executable_path, headless=False)"
   ]
  },
  {
   "cell_type": "markdown",
   "metadata": {},
   "source": [
    "# City URLs"
   ]
  },
  {
   "cell_type": "code",
   "execution_count": null,
   "metadata": {},
   "outputs": [],
   "source": [
    "phoenix_url = \"https://www.glassdoor.com/Job/jobs.htm?suggestCount=0&suggestChosen=false&clickSource=searchBtn&typedKeyword=Data+Scientist&sc.keyword=Data+Scientist&locT=C&locId=1133904&jobType=\"\n",
    "portland_url = \"https://www.glassdoor.com/Job/jobs.htm?suggestCount=0&suggestChosen=false&clickSource=searchBtn&typedKeyword=Data+Scientist&sc.keyword=Data+Scientist&locT=C&locId=1151614&jobType=\"\n",
    "houston_url = \"https://www.glassdoor.com/Job/jobs.htm?suggestCount=0&suggestChosen=false&clickSource=searchBtn&typedKeyword=Data+Scientist&sc.keyword=Data+Scientist&locT=C&locId=1140171&jobType=\"\n",
    "seattle_url = \"https://www.glassdoor.com/Job/jobs.htm?suggestCount=0&suggestChosen=false&clickSource=searchBtn&typedKeyword=Data+Scientist&sc.keyword=Data+Scientist&locT=C&locId=1150505&jobType=\"\n",
    "sanfrancisco_url = \"https://www.glassdoor.com/Job/jobs.htm?suggestCount=0&suggestChosen=false&clickSource=searchBtn&typedKeyword=Data+Scientist&sc.keyword=Data+Scientist&locT=C&locId=1147401&jobType=\"\n",
    "austin_url = \"https://www.glassdoor.com/Job/jobs.htm?sc.keyword=Data%20Scientist&locT=C&locId=1139761&locKeyword=Austin, %20TX&srs=RECENT_SEARCHES\"\n",
    "sanjose_url = \"https://www.glassdoor.com/Job/jobs.htm?suggestCount=0&suggestChosen=false&clickSource=searchBtn&typedKeyword=Data+Scientist&sc.keyword=Data+Scientist&locT=C&locId=1147436&jobType=\"\n",
    "boston_url = \"https://www.glassdoor.com/Job/jobs.htm?suggestCount=0&suggestChosen=false&clickSource=searchBtn&typedKeyword=Data+Scientist&sc.keyword=Data+Scientist&locT=C&locId=1154532&jobType=\"\n",
    "washington_url = \"https://www.glassdoor.com/Job/jobs.htm?suggestCount=0&suggestChosen=false&clickSource=searchBtn&typedKeyword=Data+Scientist&sc.keyword=Data+Scientist&locT=C&locId=1138213&jobType=\"\n",
    "philadelphia_url = \"https://www.glassdoor.com/Job/jobs.htm?suggestCount=0&suggestChosen=false&clickSource=searchBtn&typedKeyword=Data+Scientist&sc.keyword=Data+Scientist&locT=C&locId=1152672&jobType=\""
   ]
  },
  {
   "cell_type": "code",
   "execution_count": null,
   "metadata": {},
   "outputs": [],
   "source": [
    "city_urls = [phoenix_url,\n",
    "             portland_url,\n",
    "             houston_url,\n",
    "             seattle_url,\n",
    "             sanfrancisco_url,\n",
    "             austin_url,\n",
    "             sanjose_url,\n",
    "             boston_url,\n",
    "             washington_url,\n",
    "             philadelphia_url]"
   ]
  },
  {
   "cell_type": "markdown",
   "metadata": {},
   "source": [
    "# Web-Scraping Functions"
   ]
  },
  {
   "cell_type": "code",
   "execution_count": null,
   "metadata": {},
   "outputs": [],
   "source": [
    "# save results in MongoDB\n",
    "def save_results():\n",
    "    results = browser.find_by_xpath(xpath)\n",
    "    for res in results:\n",
    "        try:\n",
    "            # use this to grab different job descriptions\n",
    "            res.click()\n",
    "            \n",
    "            # collect the salary data and translate them into integers\n",
    "            salary_info = res.find_by_css(\"div:nth-child(3) > div:nth-child(1) > span\").text\n",
    "            salary_low = int(salary_info.split('-')[0].split('k')[0].split('$')[1]) * 1000\n",
    "            salary_high = int(salary_info.split('-')[1].split('k')[0].split('$')[1]) * 1000\n",
    "\n",
    "            # gather company_name, city and state\n",
    "            company_info = res.find_by_css(\"div.flexbox.empLoc > div\").text\n",
    "            company_name = company_info.split('–')[0]\n",
    "            city = company_info.split('–')[1].split(',')[0]\n",
    "            state = company_info.split('–')[1].split(',')[1]\n",
    "\n",
    "            # make the rating float number\n",
    "            rating = float(res.find_by_css(\"div.logoWrap > span\").text)\n",
    "\n",
    "            # gather the job_description information\n",
    "            job_description = browser.find_by_id(\"JobDescriptionContainer\").text\n",
    "\n",
    "            # save data into mongodb\n",
    "            posting = {\n",
    "                'company_name': company_name,\n",
    "                'city': city,\n",
    "                'state': state,\n",
    "                'salary_low': salary_low,\n",
    "                'salary_high': salary_high,\n",
    "                'rating': rating,\n",
    "                'job_description': job_description\n",
    "            }\n",
    "            \n",
    "            collection.insert_one(posting)\n",
    "            \n",
    "        except:\n",
    "            pass \n",
    "\n",
    "def close_modal():\n",
    "    if len(browser.find_by_css(\".xBtn\")):\n",
    "        browser.find_by_css(\".xBtn\")[0].click()\n",
    "\n",
    "def is_last_page():\n",
    "    if len(browser.find_by_css(\"li.page.current.last\")):\n",
    "        return True\n",
    "    return False\n",
    "\n",
    "def next_page():\n",
    "    next_pages = browser.find_by_css(\"li.next\")\n",
    "    next_pages[0].click()"
   ]
  },
  {
   "cell_type": "markdown",
   "metadata": {},
   "source": [
    "# Scrape the Data"
   ]
  },
  {
   "cell_type": "code",
   "execution_count": null,
   "metadata": {},
   "outputs": [],
   "source": [
    "for city_url in tqdm(city_urls):\n",
    "\n",
    "    browser.visit(city_url)\n",
    "\n",
    "    xpath = \"//*[@id='MainCol']/div/ul/li\"\n",
    "\n",
    "    last_page = False\n",
    "    counter = 0\n",
    "    while not last_page:\n",
    "        if is_last_page(): \n",
    "                last_page = True\n",
    "        close_modal()\n",
    "        print(f\"Processing Page {counter+1}\")\n",
    "        save_results()\n",
    "        counter += 1\n",
    "        next_page()"
   ]
  },
  {
   "cell_type": "code",
   "execution_count": null,
   "metadata": {},
   "outputs": [],
   "source": []
  }
 ],
 "metadata": {
  "kernelspec": {
   "display_name": "Python 3",
   "language": "python",
   "name": "python3"
  },
  "language_info": {
   "codemirror_mode": {
    "name": "ipython",
    "version": 3
   },
   "file_extension": ".py",
   "mimetype": "text/x-python",
   "name": "python",
   "nbconvert_exporter": "python",
   "pygments_lexer": "ipython3",
   "version": "3.6.5"
  }
 },
 "nbformat": 4,
 "nbformat_minor": 2
}
