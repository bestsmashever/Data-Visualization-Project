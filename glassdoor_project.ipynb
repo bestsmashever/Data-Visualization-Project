{
 "cells": [
  {
   "cell_type": "code",
   "execution_count": null,
   "metadata": {},
   "outputs": [],
   "source": [
    "# import dependencies\n",
    "import pandas as pd\n",
    "import requests\n",
    "from bs4 import BeautifulSoup\n",
    "from splinter import Browser\n",
    "from splinter.exceptions import ElementDoesNotExist\n",
    "import re"
   ]
  },
  {
   "cell_type": "code",
   "execution_count": null,
   "metadata": {},
   "outputs": [],
   "source": [
    "# set the chromedriver path\n",
    "executable_path = {'executable_path':'chromedriver.exe'}\n",
    "browser = Browser(\"chrome\", **executable_path, headless=False)"
   ]
  },
  {
   "cell_type": "markdown",
   "metadata": {},
   "source": [
    "## Scaraping the data"
   ]
  },
  {
   "cell_type": "code",
   "execution_count": null,
   "metadata": {},
   "outputs": [],
   "source": [
    "locIds = [\"1133904\",\"1151614\",\"1140171\",\"1150505\",\"1147401\",\"1139761\",\"1147436\",\"1154532\",\"1138213\",\"1152672\"]\n",
    "base_url = \"https://www.glassdoor.com/Job/jobs.htm?suggestCount=0&suggestChosen=false&clickSource=searchBtn&typedKeyword=Data+Scientist&sc.keyword=Data+Scientist&locT=C&locId=\"\n",
    "\n",
    "city_urls = []\n",
    "\n",
    "for locid in locIds:\n",
    "     city_url = base_url + locid\n",
    "     city_urls.append(city_url)"
   ]
  },
  {
   "cell_type": "code",
   "execution_count": null,
   "metadata": {},
   "outputs": [],
   "source": [
    "city_url"
   ]
  },
  {
   "cell_type": "code",
   "execution_count": null,
   "metadata": {},
   "outputs": [],
   "source": [
    "browser.visit(city_url)\n",
    "html = browser.html\n",
    "soup = BeautifulSoup(html, 'html.parser')"
   ]
  },
  {
   "cell_type": "code",
   "execution_count": null,
   "metadata": {},
   "outputs": [],
   "source": [
    "companies = []\n",
    "ratings = []\n",
    "salaries = []\n",
    "cities = []\n",
    "states = []\n",
    "job_descriptions = []\n",
    "xpath = \"//*[@id='MainCol']/div/ul/li\"\n",
    "def save_results():\n",
    "    results = browser.find_by_xpath(xpath)\n",
    "    for res in results:\n",
    "        try:\n",
    "            salaries.append(res.find_by_css(\"div:nth-child(3) > div:nth-child(1) > span\").text)\n",
    "            company = res.find_by_css(\"div.flexbox.empLoc > div\").text\n",
    "            companies.append(company.split('–')[0])\n",
    "            cities.append(company.split('–')[1])\n",
    "            states.append(company.split(',')[1])\n",
    "            ratings.append(res.find_by_css(\"div.logoWrap > span\").text)\n",
    "            job_descriptions.append(browser.find_by_id(\"JobDescriptionContainer\").text)\n",
    "        except:\n",
    "            pass\n",
    "\n",
    "def close_modal():\n",
    "    if len(browser.find_by_css(\".xBtn\")):\n",
    "        browser.find_by_css(\".xBtn\")[0].click()\n",
    "\n",
    "def is_last_page():\n",
    "    if len(browser.find_by_css(\"li.page.current.last\")):\n",
    "        return True\n",
    "    return False\n",
    "\n",
    "def next_page():\n",
    "    next_pages = browser.find_by_css(\"li.next\")\n",
    "    next_pages[0].click()\n",
    "\n",
    "def crawl_city(city_url):\n",
    "    print(city_url)\n",
    "    browser.visit(city_url)\n",
    "    last_page = False\n",
    "    counter = 0\n",
    "    while not last_page:\n",
    "        if is_last_page(): last_page = True\n",
    "        close_modal()\n",
    "        print(f\"Processing Page {counter+1}\")\n",
    "        save_results()\n",
    "        counter += 1\n",
    "        next_page()"
   ]
  },
  {
   "cell_type": "code",
   "execution_count": null,
   "metadata": {},
   "outputs": [],
   "source": [
    "companies"
   ]
  },
  {
   "cell_type": "code",
   "execution_count": null,
   "metadata": {},
   "outputs": [],
   "source": [
    "df = pd.DataFrame({\"Companies\": companies, \n",
    "                   \"Salaries\": salaries, \n",
    "                   \"Ratings\": ratings,\n",
    "                   \"Job_descriptions\": job_descriptions\n",
    "                  })"
   ]
  },
  {
   "cell_type": "code",
   "execution_count": null,
   "metadata": {},
   "outputs": [],
   "source": [
    "phoenix_url = \"https://www.glassdoor.com/Job/jobs.htm?suggestCount=0&suggestChosen=false&clickSource=searchBtn&typedKeyword=Data+Scientist&sc.keyword=Data+Scientist&locT=C&locId=1133904&jobType=\"\n",
    "portland_url = \"https://www.glassdoor.com/Job/jobs.htm?suggestCount=0&suggestChosen=false&clickSource=searchBtn&typedKeyword=Data+Scientist&sc.keyword=Data+Scientist&locT=C&locId=1151614&jobType=\"\n",
    "houston_url = \"https://www.glassdoor.com/Job/jobs.htm?suggestCount=0&suggestChosen=false&clickSource=searchBtn&typedKeyword=Data+Scientist&sc.keyword=Data+Scientist&locT=C&locId=1140171&jobType=\"\n",
    "seattle_url = \"https://www.glassdoor.com/Job/jobs.htm?suggestCount=0&suggestChosen=false&clickSource=searchBtn&typedKeyword=Data+Scientist&sc.keyword=Data+Scientist&locT=C&locId=1150505&jobType=\"\n",
    "sanfrancisco_url = \"https://www.glassdoor.com/Job/jobs.htm?suggestCount=0&suggestChosen=false&clickSource=searchBtn&typedKeyword=Data+Scientist&sc.keyword=Data+Scientist&locT=C&locId=1147401&jobType=\"\n",
    "austin_url = \"https://www.glassdoor.com/Job/jobs.htm?sc.keyword=Data%20Scientist&locT=C&locId=1139761&locKeyword=Austin, %20TX&srs=RECENT_SEARCHES\"\n",
    "sanjose_url = \"https://www.glassdoor.com/Job/jobs.htm?suggestCount=0&suggestChosen=false&clickSource=searchBtn&typedKeyword=Data+Scientist&sc.keyword=Data+Scientist&locT=C&locId=1147436&jobType=\"\n",
    "boston_url = \"https://www.glassdoor.com/Job/jobs.htm?suggestCount=0&suggestChosen=false&clickSource=searchBtn&typedKeyword=Data+Scientist&sc.keyword=Data+Scientist&locT=C&locId=1154532&jobType=\"\n",
    "washington_url = \"https://www.glassdoor.com/Job/jobs.htm?suggestCount=0&suggestChosen=false&clickSource=searchBtn&typedKeyword=Data+Scientist&sc.keyword=Data+Scientist&locT=C&locId=1138213&jobType=\"\n",
    "philadelphia_url = \"https://www.glassdoor.com/Job/jobs.htm?suggestCount=0&suggestChosen=false&clickSource=searchBtn&typedKeyword=Data+Scientist&sc.keyword=Data+Scientist&locT=C&locId=1152672&jobType=\"\n",
    "\n"
   ]
  },
  {
   "cell_type": "code",
   "execution_count": null,
   "metadata": {},
   "outputs": [],
   "source": [
    "city_url = [philadelphia_url, phoenix_url,houston_url,seattle_url,sanfrancisco_url,sanjose_url,austin_url,boston_url,washington_url,portland_url]"
   ]
  }
 ],
 "metadata": {
  "kernelspec": {
   "display_name": "PythonData",
   "language": "python",
   "name": "pythondata"
  },
  "language_info": {
   "codemirror_mode": {
    "name": "ipython",
    "version": 3
   },
   "file_extension": ".py",
   "mimetype": "text/x-python",
   "name": "python",
   "nbconvert_exporter": "python",
   "pygments_lexer": "ipython3",
   "version": "3.6.5"
  }
 },
 "nbformat": 4,
 "nbformat_minor": 2
}
