{
 "cells": [
  {
   "cell_type": "code",
   "execution_count": 1,
   "metadata": {},
   "outputs": [],
   "source": [
    "# import dependencies\n",
    "import pandas as pd\n",
    "import requests\n",
    "from bs4 import BeautifulSoup\n",
    "from splinter import Browser\n",
    "from splinter.exceptions import ElementDoesNotExist\n",
    "import re\n",
    "import time\n",
    "import os\n",
    "import csv"
   ]
  },
  {
   "cell_type": "code",
   "execution_count": 2,
   "metadata": {},
   "outputs": [],
   "source": [
    "# set the chromedriver path\n",
    "executable_path = {\"executable_path\": \"chromedriver.exe\"}\n",
    "browser = Browser(\"chrome\", **executable_path, headless=False)"
   ]
  },
  {
   "cell_type": "code",
   "execution_count": 3,
   "metadata": {},
   "outputs": [
    {
     "data": {
      "text/plain": [
       "'https://www.glassdoor.com/Job/jobs.htm?sc.keyword=Data%20Scientist&locT=C&locId=1147436&locKeyword=San Jose, %20CA&srs=RECENT_SEARCHES'"
      ]
     },
     "execution_count": 3,
     "metadata": {},
     "output_type": "execute_result"
    }
   ],
   "source": [
    "# url\n",
    "job_title = \"Data%20Scientist\"\n",
    "location_id = \"1147436\"\n",
    "location = \"San Jose, %20CA\"\n",
    "glassdoor_url = \"https://www.glassdoor.com/Job/jobs.htm?sc.keyword=\"+job_title+\"&locT=C&locId=\"+location_id+\"&locKeyword=\"+location+\"&srs=RECENT_SEARCHES\"\n",
    "glassdoor_url"
   ]
  },
  {
   "cell_type": "code",
   "execution_count": 4,
   "metadata": {},
   "outputs": [],
   "source": [
    "browser.visit(glassdoor_url)\n",
    "html = browser.html\n",
    "soup = BeautifulSoup(html, 'html.parser')"
   ]
  },
  {
   "cell_type": "code",
   "execution_count": 5,
   "metadata": {},
   "outputs": [],
   "source": [
    "# find the xpath and return a collection of all jobs on a certain page\n",
    "xpath = \"//*[@id='MainCol']/div/ul/li\"\n",
    "results = browser.find_by_xpath(xpath)\n",
    "companies = []\n",
    "ratings = []\n",
    "salaries = []\n",
    "job_descriptions = []"
   ]
  },
  {
   "cell_type": "code",
   "execution_count": 6,
   "metadata": {},
   "outputs": [
    {
     "name": "stdout",
     "output_type": "stream",
     "text": [
      "Processing Page 1\n",
      "Processing Page 2\n",
      "Processing Page 3\n",
      "Processing Page 4\n",
      "Processing Page 5\n",
      "Processing Page 6\n",
      "Processing Page 7\n",
      "Processing Page 8\n",
      "Processing Page 9\n",
      "Processing Page 10\n",
      "Processing Page 11\n",
      "Processing Page 12\n",
      "Processing Page 13\n",
      "Processing Page 14\n",
      "Processing Page 15\n",
      "Processing Page 16\n",
      "Processing Page 17\n",
      "Processing Page 18\n",
      "Processing Page 19\n",
      "Processing Page 20\n",
      "Processing Page 21\n",
      "Processing Page 22\n",
      "Processing Page 23\n",
      "Processing Page 24\n",
      "Processing Page 25\n",
      "Processing Page 26\n",
      "Processing Page 27\n",
      "Processing Page 28\n",
      "Processing Page 29\n",
      "Processing Page 30\n",
      "Processing Page 31\n"
     ]
    },
    {
     "ename": "ElementDoesNotExist",
     "evalue": "no elements could be found with css \"li.next\"",
     "output_type": "error",
     "traceback": [
      "\u001b[1;31m---------------------------------------------------------------------------\u001b[0m",
      "\u001b[1;31mIndexError\u001b[0m                                Traceback (most recent call last)",
      "\u001b[1;32m~\\AppData\\Roaming\\Python\\Python36\\site-packages\\splinter\\element_list.py\u001b[0m in \u001b[0;36m__getitem__\u001b[1;34m(self, index)\u001b[0m\n\u001b[0;32m     39\u001b[0m         \u001b[1;32mtry\u001b[0m\u001b[1;33m:\u001b[0m\u001b[1;33m\u001b[0m\u001b[0m\n\u001b[1;32m---> 40\u001b[1;33m             \u001b[1;32mreturn\u001b[0m \u001b[0msuper\u001b[0m\u001b[1;33m(\u001b[0m\u001b[0mElementList\u001b[0m\u001b[1;33m,\u001b[0m \u001b[0mself\u001b[0m\u001b[1;33m)\u001b[0m\u001b[1;33m.\u001b[0m\u001b[0m__getitem__\u001b[0m\u001b[1;33m(\u001b[0m\u001b[0mindex\u001b[0m\u001b[1;33m)\u001b[0m\u001b[1;33m\u001b[0m\u001b[0m\n\u001b[0m\u001b[0;32m     41\u001b[0m         \u001b[1;32mexcept\u001b[0m \u001b[0mIndexError\u001b[0m\u001b[1;33m:\u001b[0m\u001b[1;33m\u001b[0m\u001b[0m\n",
      "\u001b[1;31mIndexError\u001b[0m: list index out of range",
      "\nDuring handling of the above exception, another exception occurred:\n",
      "\u001b[1;31mElementDoesNotExist\u001b[0m                       Traceback (most recent call last)",
      "\u001b[1;32m<ipython-input-6-da8bf110bf47>\u001b[0m in \u001b[0;36m<module>\u001b[1;34m()\u001b[0m\n\u001b[0;32m     52\u001b[0m     \u001b[0msave_results\u001b[0m\u001b[1;33m(\u001b[0m\u001b[1;33m)\u001b[0m\u001b[1;33m\u001b[0m\u001b[0m\n\u001b[0;32m     53\u001b[0m     \u001b[0mcounter\u001b[0m \u001b[1;33m+=\u001b[0m \u001b[1;36m1\u001b[0m\u001b[1;33m\u001b[0m\u001b[0m\n\u001b[1;32m---> 54\u001b[1;33m     \u001b[0mnext_page\u001b[0m\u001b[1;33m(\u001b[0m\u001b[1;33m)\u001b[0m\u001b[1;33m\u001b[0m\u001b[0m\n\u001b[0m",
      "\u001b[1;32m<ipython-input-6-da8bf110bf47>\u001b[0m in \u001b[0;36mnext_page\u001b[1;34m()\u001b[0m\n\u001b[0;32m     40\u001b[0m \u001b[1;32mdef\u001b[0m \u001b[0mnext_page\u001b[0m\u001b[1;33m(\u001b[0m\u001b[1;33m)\u001b[0m\u001b[1;33m:\u001b[0m\u001b[1;33m\u001b[0m\u001b[0m\n\u001b[0;32m     41\u001b[0m     \u001b[0mnext_pages\u001b[0m \u001b[1;33m=\u001b[0m \u001b[0mbrowser\u001b[0m\u001b[1;33m.\u001b[0m\u001b[0mfind_by_css\u001b[0m\u001b[1;33m(\u001b[0m\u001b[1;34m\"li.next\"\u001b[0m\u001b[1;33m)\u001b[0m\u001b[1;33m\u001b[0m\u001b[0m\n\u001b[1;32m---> 42\u001b[1;33m     \u001b[0mnext_pages\u001b[0m\u001b[1;33m[\u001b[0m\u001b[1;36m0\u001b[0m\u001b[1;33m]\u001b[0m\u001b[1;33m.\u001b[0m\u001b[0mclick\u001b[0m\u001b[1;33m(\u001b[0m\u001b[1;33m)\u001b[0m\u001b[1;33m\u001b[0m\u001b[0m\n\u001b[0m\u001b[0;32m     43\u001b[0m \u001b[1;33m\u001b[0m\u001b[0m\n\u001b[0;32m     44\u001b[0m \u001b[1;33m\u001b[0m\u001b[0m\n",
      "\u001b[1;32m~\\AppData\\Roaming\\Python\\Python36\\site-packages\\splinter\\element_list.py\u001b[0m in \u001b[0;36m__getitem__\u001b[1;34m(self, index)\u001b[0m\n\u001b[0;32m     42\u001b[0m             raise ElementDoesNotExist(\n\u001b[0;32m     43\u001b[0m                 u'no elements could be found with {0} \"{1}\"'.format(\n\u001b[1;32m---> 44\u001b[1;33m                     \u001b[0mself\u001b[0m\u001b[1;33m.\u001b[0m\u001b[0mfind_by\u001b[0m\u001b[1;33m,\u001b[0m \u001b[0mself\u001b[0m\u001b[1;33m.\u001b[0m\u001b[0mquery\u001b[0m\u001b[1;33m\u001b[0m\u001b[0m\n\u001b[0m\u001b[0;32m     45\u001b[0m                 )\n\u001b[0;32m     46\u001b[0m             )\n",
      "\u001b[1;31mElementDoesNotExist\u001b[0m: no elements could be found with css \"li.next\""
     ]
    }
   ],
   "source": [
    "for res in results:\n",
    "    try:\n",
    "        res.click()\n",
    "        salaries.append(res.find_by_css(\"div:nth-child(3) > div:nth-child(1) > span\").text)\n",
    "        \n",
    "        company = res.find_by_css(\"div.flexbox.empLoc > div\").text\n",
    "        companies.append(company.split('–')[0])\n",
    "        \n",
    "        ratings.append(res.find_by_css(\"div.logoWrap > span\").text)\n",
    "        job_descriptions.append(browser.find_by_id(\"JobDescriptionContainer\").text)\n",
    "    except:\n",
    "        pass\n",
    "\t\t\n",
    "companies = []\n",
    "ratings = []\n",
    "salaries = []\n",
    "job_descriptions = []\n",
    "xpath = \"//*[@id='MainCol']/div/ul/li\"\n",
    "def save_results():\n",
    "    results = browser.find_by_xpath(xpath)\n",
    "    for res in results:\n",
    "        try:\n",
    "            salaries.append(res.find_by_css(\"div:nth-child(3) > div:nth-child(1) > span\").text)\n",
    "            company = res.find_by_css(\"div.flexbox.empLoc > div\").text\n",
    "            companies.append(company.split('–')[0])\n",
    "            ratings.append(res.find_by_css(\"div.logoWrap > span\").text)\n",
    "            job_descriptions.append(browser.find_by_id(\"JobDescriptionContainer\").text)\n",
    "        except:\n",
    "            pass\n",
    "\n",
    "def close_modal():\n",
    "    if len(browser.find_by_css(\".xBtn\")):\n",
    "        browser.find_by_css(\".xBtn\")[0].click()\n",
    "\n",
    "def is_last_page():\n",
    "    if len(browser.find_by_css(\"li.page.current.last\")):\n",
    "        return True\n",
    "    return False\n",
    "\n",
    "def next_page():\n",
    "    next_pages = browser.find_by_css(\"li.next\")\n",
    "    next_pages[0].click()\n",
    "\n",
    "\n",
    "\n",
    "last_page = False\n",
    "counter = 0\n",
    "while not last_page:\n",
    "    if is_last_page(): last_page = True\n",
    "    close_modal()\n",
    "    print(f\"Processing Page {counter+1}\")\n",
    "    save_results()\n",
    "    counter += 1\n",
    "    next_page()"
   ]
  },
  {
   "cell_type": "code",
   "execution_count": null,
   "metadata": {},
   "outputs": [],
   "source": []
  }
 ],
 "metadata": {
  "kernelspec": {
   "display_name": "PythonData",
   "language": "python",
   "name": "pythondata"
  },
  "language_info": {
   "codemirror_mode": {
    "name": "ipython",
    "version": 3
   },
   "file_extension": ".py",
   "mimetype": "text/x-python",
   "name": "python",
   "nbconvert_exporter": "python",
   "pygments_lexer": "ipython3",
   "version": "3.6.4"
  }
 },
 "nbformat": 4,
 "nbformat_minor": 2
}
